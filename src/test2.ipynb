{
 "cells": [
  {
   "cell_type": "code",
   "execution_count": 4,
   "metadata": {},
   "outputs": [
    {
     "name": "stdout",
     "output_type": "stream",
     "text": [
      "    name  id                                             x_list  \\\n",
      "0  test1   1  [10.0, 10.0, 10.0, 10.0, 10.0, 10.0, 10.0, 10....   \n",
      "1  test1   2  [10.0, 10.0, 10.0, 10.0, 10.0, 10.0, 10.0, 10....   \n",
      "\n",
      "                                              y_list  \\\n",
      "0  [10.0, 10.1, 10.2, 10.299999999999999, 10.3999...   \n",
      "1  [10.0, 10.1, 10.2, 10.299999999999999, 10.3999...   \n",
      "\n",
      "                                            yaw_list  \\\n",
      "0  [1.5707963267948966, 1.5707963267948966, 1.570...   \n",
      "1  [1.5707963267948966, 1.5707963267948966, 1.570...   \n",
      "\n",
      "                                      direction_list        cost  \n",
      "0  [True, True, True, True, True, True, True, Tru...  290.553531  \n",
      "1  [True, True, True, True, True, True, True, Tru...  290.553531  \n"
     ]
    }
   ],
   "source": [
    "import pandas as pd\n",
    "\n",
    "# Parquet ファイルのパス\n",
    "file_path = \"test2.parquet\"\n",
    "\n",
    "# Parquet ファイルを読み込む\n",
    "df = pd.read_parquet(file_path, engine=\"pyarrow\")  # or engine=\"fastparquet\"\n",
    "\n",
    "# DataFrame を表示\n",
    "print(df)\n"
   ]
  },
  {
   "cell_type": "code",
   "execution_count": 5,
   "metadata": {},
   "outputs": [
    {
     "data": {
      "text/html": [
       "<div>\n",
       "<style scoped>\n",
       "    .dataframe tbody tr th:only-of-type {\n",
       "        vertical-align: middle;\n",
       "    }\n",
       "\n",
       "    .dataframe tbody tr th {\n",
       "        vertical-align: top;\n",
       "    }\n",
       "\n",
       "    .dataframe thead th {\n",
       "        text-align: right;\n",
       "    }\n",
       "</style>\n",
       "<table border=\"1\" class=\"dataframe\">\n",
       "  <thead>\n",
       "    <tr style=\"text-align: right;\">\n",
       "      <th></th>\n",
       "      <th>name</th>\n",
       "      <th>id</th>\n",
       "      <th>x_list</th>\n",
       "      <th>y_list</th>\n",
       "      <th>yaw_list</th>\n",
       "      <th>direction_list</th>\n",
       "      <th>cost</th>\n",
       "    </tr>\n",
       "  </thead>\n",
       "  <tbody>\n",
       "    <tr>\n",
       "      <th>0</th>\n",
       "      <td>test1</td>\n",
       "      <td>1</td>\n",
       "      <td>[10.0, 10.0, 10.0, 10.0, 10.0, 10.0, 10.0, 10....</td>\n",
       "      <td>[10.0, 10.1, 10.2, 10.299999999999999, 10.3999...</td>\n",
       "      <td>[1.5707963267948966, 1.5707963267948966, 1.570...</td>\n",
       "      <td>[True, True, True, True, True, True, True, Tru...</td>\n",
       "      <td>290.553531</td>\n",
       "    </tr>\n",
       "    <tr>\n",
       "      <th>1</th>\n",
       "      <td>test1</td>\n",
       "      <td>2</td>\n",
       "      <td>[10.0, 10.0, 10.0, 10.0, 10.0, 10.0, 10.0, 10....</td>\n",
       "      <td>[10.0, 10.1, 10.2, 10.299999999999999, 10.3999...</td>\n",
       "      <td>[1.5707963267948966, 1.5707963267948966, 1.570...</td>\n",
       "      <td>[True, True, True, True, True, True, True, Tru...</td>\n",
       "      <td>290.553531</td>\n",
       "    </tr>\n",
       "  </tbody>\n",
       "</table>\n",
       "</div>"
      ],
      "text/plain": [
       "    name  id                                             x_list  \\\n",
       "0  test1   1  [10.0, 10.0, 10.0, 10.0, 10.0, 10.0, 10.0, 10....   \n",
       "1  test1   2  [10.0, 10.0, 10.0, 10.0, 10.0, 10.0, 10.0, 10....   \n",
       "\n",
       "                                              y_list  \\\n",
       "0  [10.0, 10.1, 10.2, 10.299999999999999, 10.3999...   \n",
       "1  [10.0, 10.1, 10.2, 10.299999999999999, 10.3999...   \n",
       "\n",
       "                                            yaw_list  \\\n",
       "0  [1.5707963267948966, 1.5707963267948966, 1.570...   \n",
       "1  [1.5707963267948966, 1.5707963267948966, 1.570...   \n",
       "\n",
       "                                      direction_list        cost  \n",
       "0  [True, True, True, True, True, True, True, Tru...  290.553531  \n",
       "1  [True, True, True, True, True, True, True, Tru...  290.553531  "
      ]
     },
     "execution_count": 5,
     "metadata": {},
     "output_type": "execute_result"
    }
   ],
   "source": [
    "df.head()"
   ]
  },
  {
   "cell_type": "code",
   "execution_count": 7,
   "metadata": {},
   "outputs": [
    {
     "data": {
      "text/html": [
       "<div>\n",
       "<style scoped>\n",
       "    .dataframe tbody tr th:only-of-type {\n",
       "        vertical-align: middle;\n",
       "    }\n",
       "\n",
       "    .dataframe tbody tr th {\n",
       "        vertical-align: top;\n",
       "    }\n",
       "\n",
       "    .dataframe thead th {\n",
       "        text-align: right;\n",
       "    }\n",
       "</style>\n",
       "<table border=\"1\" class=\"dataframe\">\n",
       "  <thead>\n",
       "    <tr style=\"text-align: right;\">\n",
       "      <th></th>\n",
       "      <th>name</th>\n",
       "      <th>id</th>\n",
       "      <th>x_list</th>\n",
       "      <th>y_list</th>\n",
       "      <th>yaw_list</th>\n",
       "      <th>direction_list</th>\n",
       "      <th>cost</th>\n",
       "    </tr>\n",
       "  </thead>\n",
       "  <tbody>\n",
       "    <tr>\n",
       "      <th>1</th>\n",
       "      <td>test1</td>\n",
       "      <td>2</td>\n",
       "      <td>[10.0, 10.0, 10.0, 10.0, 10.0, 10.0, 10.0, 10....</td>\n",
       "      <td>[10.0, 10.1, 10.2, 10.299999999999999, 10.3999...</td>\n",
       "      <td>[1.5707963267948966, 1.5707963267948966, 1.570...</td>\n",
       "      <td>[True, True, True, True, True, True, True, Tru...</td>\n",
       "      <td>290.553531</td>\n",
       "    </tr>\n",
       "  </tbody>\n",
       "</table>\n",
       "</div>"
      ],
      "text/plain": [
       "    name  id                                             x_list  \\\n",
       "1  test1   2  [10.0, 10.0, 10.0, 10.0, 10.0, 10.0, 10.0, 10....   \n",
       "\n",
       "                                              y_list  \\\n",
       "1  [10.0, 10.1, 10.2, 10.299999999999999, 10.3999...   \n",
       "\n",
       "                                            yaw_list  \\\n",
       "1  [1.5707963267948966, 1.5707963267948966, 1.570...   \n",
       "\n",
       "                                      direction_list        cost  \n",
       "1  [True, True, True, True, True, True, True, Tru...  290.553531  "
      ]
     },
     "execution_count": 7,
     "metadata": {},
     "output_type": "execute_result"
    }
   ],
   "source": [
    "df[df[\"id\"] == 2]"
   ]
  },
  {
   "cell_type": "code",
   "execution_count": null,
   "metadata": {},
   "outputs": [],
   "source": []
  }
 ],
 "metadata": {
  "kernelspec": {
   "display_name": "Python 3",
   "language": "python",
   "name": "python3"
  },
  "language_info": {
   "codemirror_mode": {
    "name": "ipython",
    "version": 3
   },
   "file_extension": ".py",
   "mimetype": "text/x-python",
   "name": "python",
   "nbconvert_exporter": "python",
   "pygments_lexer": "ipython3",
   "version": "3.12.9"
  }
 },
 "nbformat": 4,
 "nbformat_minor": 2
}
