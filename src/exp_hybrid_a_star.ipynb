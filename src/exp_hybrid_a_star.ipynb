{
 "cells": [
  {
   "cell_type": "code",
   "execution_count": 1,
   "metadata": {},
   "outputs": [
    {
     "ename": "NameError",
     "evalue": "name '__file__' is not defined",
     "output_type": "error",
     "traceback": [
      "\u001b[31m---------------------------------------------------------------------------\u001b[39m",
      "\u001b[31mNameError\u001b[39m                                 Traceback (most recent call last)",
      "\u001b[36mCell\u001b[39m\u001b[36m \u001b[39m\u001b[32mIn[1]\u001b[39m\u001b[32m, line 3\u001b[39m\n\u001b[32m      1\u001b[39m \u001b[38;5;28;01mimport\u001b[39;00m\u001b[38;5;250m \u001b[39m\u001b[34;01msys\u001b[39;00m\n\u001b[32m      2\u001b[39m \u001b[38;5;28;01mimport\u001b[39;00m\u001b[38;5;250m \u001b[39m\u001b[34;01mpathlib\u001b[39;00m\n\u001b[32m----> \u001b[39m\u001b[32m3\u001b[39m root_dir = pathlib.Path(\u001b[34;43m__file__\u001b[39;49m).parent.parent.parent\n\u001b[32m      4\u001b[39m \u001b[38;5;28mprint\u001b[39m(\u001b[33m\"\u001b[39m\u001b[33mroot_dir = \u001b[39m\u001b[33m\"\u001b[39m + root_dir)\n\u001b[32m      5\u001b[39m sys.path.append(\u001b[38;5;28mstr\u001b[39m(root_dir))\n",
      "\u001b[31mNameError\u001b[39m: name '__file__' is not defined"
     ]
    }
   ],
   "source": [
    "import sys\n",
    "import pathlib\n",
    "root_dir = pathlib.Path(__file__).parent.parent.parent\n",
    "print(\"root_dir = \" + root_dir)\n",
    "sys.path.append(str(root_dir))\n",
    "\n",
    "import sys\n",
    "import os\n",
    "from pprint import pprint\n",
    "\n",
    "# ../PythonRobotics をパスに追加\n",
    "sys.path.append(os.path.abspath(\"../git_code/PythonRobotics\"))\n",
    "\n",
    "# 確認\n",
    "pprint(sys.path)"
   ]
  },
  {
   "cell_type": "code",
   "execution_count": 9,
   "metadata": {},
   "outputs": [
    {
     "data": {
      "text/plain": [
       "'\\nimport sys\\nimport os\\nimport pytest\\n\\nTEST_DIR = os.path.dirname(os.path.abspath(__file__))\\nsys.path.append(TEST_DIR)  # to import this file from test code.\\nROOT_DIR = os.path.dirname(TEST_DIR)\\nsys.path.append(ROOT_DIR)\\n\\n\\ndef run_this_test(file):\\n    pytest.main([os.path.abspath(file)])\\n'"
      ]
     },
     "execution_count": 9,
     "metadata": {},
     "output_type": "execute_result"
    }
   ],
   "source": [
    "# import conftest\n",
    "# conftest.py の中身をここに書く\n",
    "\"\"\"Path hack to make tests work.\"\"\"\n",
    "\n",
    "\"\"\"\n",
    "import sys\n",
    "import os\n",
    "import pytest\n",
    "\n",
    "TEST_DIR = os.path.dirname(os.path.abspath(__file__))\n",
    "sys.path.append(TEST_DIR)  # to import this file from test code.\n",
    "ROOT_DIR = os.path.dirname(TEST_DIR)\n",
    "sys.path.append(ROOT_DIR)\n",
    "\n",
    "\n",
    "def run_this_test(file):\n",
    "    pytest.main([os.path.abspath(file)])\n",
    "\"\"\""
   ]
  },
  {
   "cell_type": "code",
   "execution_count": 10,
   "metadata": {},
   "outputs": [],
   "source": [
    "from PathPlanning.HybridAStar import hybrid_a_star as m"
   ]
  },
  {
   "cell_type": "code",
   "execution_count": 11,
   "metadata": {},
   "outputs": [
    {
     "name": "stdout",
     "output_type": "stream",
     "text": [
      "Start Hybrid A* planning\n",
      "start :  [10.0, 10.0, np.float64(1.5707963267948966)]\n",
      "goal :  [50.0, 50.0, np.float64(-1.5707963267948966)]\n",
      "path found\n",
      "/home/takuya/git_code/PythonRobotics/PathPlanning/HybridAStar/hybrid_a_star.py done!!\n"
     ]
    }
   ],
   "source": [
    "m.show_animation = False\n",
    "m.main()"
   ]
  },
  {
   "cell_type": "code",
   "execution_count": null,
   "metadata": {},
   "outputs": [],
   "source": []
  }
 ],
 "metadata": {
  "kernelspec": {
   "display_name": "Python 3",
   "language": "python",
   "name": "python3"
  },
  "language_info": {
   "codemirror_mode": {
    "name": "ipython",
    "version": 3
   },
   "file_extension": ".py",
   "mimetype": "text/x-python",
   "name": "python",
   "nbconvert_exporter": "python",
   "pygments_lexer": "ipython3",
   "version": "3.12.9"
  }
 },
 "nbformat": 4,
 "nbformat_minor": 2
}
