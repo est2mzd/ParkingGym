{
 "cells": [
  {
   "cell_type": "code",
   "execution_count": 7,
   "metadata": {},
   "outputs": [
    {
     "name": "stdout",
     "output_type": "stream",
     "text": [
      "Python 3.12.9\n"
     ]
    }
   ],
   "source": [
    "!python3 --version"
   ]
  },
  {
   "cell_type": "code",
   "execution_count": 8,
   "metadata": {},
   "outputs": [
    {
     "name": "stdout",
     "output_type": "stream",
     "text": [
      "['/home/takuya/src',\n",
      " '/home/takuya/src',\n",
      " '/env/python',\n",
      " '/opt/facets/facets_overview/python',\n",
      " '/home/takuya/.conda/envs/python_robotics/lib/python312.zip',\n",
      " '/home/takuya/.conda/envs/python_robotics/lib/python3.12',\n",
      " '/home/takuya/.conda/envs/python_robotics/lib/python3.12/lib-dynload',\n",
      " '',\n",
      " '/home/takuya/.conda/envs/python_robotics/lib/python3.12/site-packages',\n",
      " '/home/takuya/git_code/PythonRobotics',\n",
      " '/home/takuya/git_code/PythonRobotics',\n",
      " '/home/takuya/git_code/PythonRobotics/PathPlanning/HybridAStar',\n",
      " '/home/takuya/git_code/PythonRobotics/PathPlanning',\n",
      " '/home/takuya/git_code/PythonRobotics',\n",
      " '/home/takuya/git_code/PythonRobotics',\n",
      " '/home/takuya/git_code/PythonRobotics']\n"
     ]
    }
   ],
   "source": [
    "import sys\n",
    "import os\n",
    "from pprint import pprint\n",
    "\n",
    "# ../PythonRobotics をパスに追加\n",
    "sys.path.append(os.path.abspath(\"../git_code/PythonRobotics\"))\n",
    "\n",
    "# 確認\n",
    "pprint(sys.path)"
   ]
  },
  {
   "cell_type": "code",
   "execution_count": 9,
   "metadata": {},
   "outputs": [
    {
     "data": {
      "text/plain": [
       "'\\nimport sys\\nimport os\\nimport pytest\\n\\nTEST_DIR = os.path.dirname(os.path.abspath(__file__))\\nsys.path.append(TEST_DIR)  # to import this file from test code.\\nROOT_DIR = os.path.dirname(TEST_DIR)\\nsys.path.append(ROOT_DIR)\\n\\n\\ndef run_this_test(file):\\n    pytest.main([os.path.abspath(file)])\\n'"
      ]
     },
     "execution_count": 9,
     "metadata": {},
     "output_type": "execute_result"
    }
   ],
   "source": [
    "# import conftest\n",
    "# conftest.py の中身をここに書く\n",
    "\"\"\"Path hack to make tests work.\"\"\"\n",
    "\n",
    "\"\"\"\n",
    "import sys\n",
    "import os\n",
    "import pytest\n",
    "\n",
    "TEST_DIR = os.path.dirname(os.path.abspath(__file__))\n",
    "sys.path.append(TEST_DIR)  # to import this file from test code.\n",
    "ROOT_DIR = os.path.dirname(TEST_DIR)\n",
    "sys.path.append(ROOT_DIR)\n",
    "\n",
    "\n",
    "def run_this_test(file):\n",
    "    pytest.main([os.path.abspath(file)])\n",
    "\"\"\""
   ]
  },
  {
   "cell_type": "code",
   "execution_count": 10,
   "metadata": {},
   "outputs": [],
   "source": [
    "from PathPlanning.HybridAStar import hybrid_a_star as m"
   ]
  },
  {
   "cell_type": "code",
   "execution_count": 11,
   "metadata": {},
   "outputs": [
    {
     "name": "stdout",
     "output_type": "stream",
     "text": [
      "Start Hybrid A* planning\n",
      "start :  [10.0, 10.0, np.float64(1.5707963267948966)]\n",
      "goal :  [50.0, 50.0, np.float64(-1.5707963267948966)]\n",
      "path found\n",
      "/home/takuya/git_code/PythonRobotics/PathPlanning/HybridAStar/hybrid_a_star.py done!!\n"
     ]
    }
   ],
   "source": [
    "m.show_animation = False\n",
    "m.main()"
   ]
  },
  {
   "cell_type": "code",
   "execution_count": null,
   "metadata": {},
   "outputs": [],
   "source": []
  }
 ],
 "metadata": {
  "kernelspec": {
   "display_name": "Python 3",
   "language": "python",
   "name": "python3"
  },
  "language_info": {
   "codemirror_mode": {
    "name": "ipython",
    "version": 3
   },
   "file_extension": ".py",
   "mimetype": "text/x-python",
   "name": "python",
   "nbconvert_exporter": "python",
   "pygments_lexer": "ipython3",
   "version": "3.12.9"
  }
 },
 "nbformat": 4,
 "nbformat_minor": 2
}
